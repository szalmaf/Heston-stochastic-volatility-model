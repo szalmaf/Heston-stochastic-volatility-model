{
 "cells": [
  {
   "cell_type": "markdown",
   "metadata": {},
   "source": [
    "$\\DeclareMathOperator*{\\E}{\\mathbb{E}}$\n",
    "$\\DeclareMathOperator*{\\Q}{\\mathbb{Q}}$\n"
   ]
  },
  {
   "cell_type": "markdown",
   "metadata": {},
   "source": [
    "$\\DeclareMathOperator*{\\E}{\\mathbb{E}} % expectation\n",
    "\\DeclareMathOperator*{\\Q}{\\mathbb{Q}} % Q probability measure\n",
    "\\DeclareMathOperator*{\\F}{{\\mathcal{F}}}\n",
    "\\DeclareMathOperator{\\d}{\\mathrm{d}\\!}  % differential\n",
    "$\n",
    "\n",
    "# Heston-stochastic-volatility-model\n",
    "\n",
    "In the notebooks I'll discuss various implementations of the Heston stochastic volatility model of pricing European call options. \n",
    "\n",
    "The Heston model goes beyond the Black-Scholes options pricing model in the sense that the constant volatility of the Black-Scholes model is replaced by a stochastic process for the volatility. This simple trick makes it possible to account for volatility smiles often seen in practice.\n",
    "\n",
    "## Mathematical description of the model\n",
    "\n",
    "The Heston stochastic volatility model is described by two coupled stochastic differential equations: one for the stock process, and another for the volatility process both driven by their respective Brownian motions:\n",
    "\n",
    "\\begin{align} \n",
    "\\d S_t & = \\sqrt{v_t} S_t \\d B_t, \\qquad S_0 > 0 \\\\\n",
    "\\d v_t & = \\kappa (\\theta-r_t) \\d t + \\sigma\\sqrt{v_t}(\\rho \\d B_t + \\sqrt{1-\\rho^2} \\d W_t), \\qquad v_0 > 0.\n",
    "\\end{align}\n",
    "\n",
    "In these two coupled stochastic differential equations:\n",
    "* $S_t$ is stock price process driven by the $B_t$ Brownian motion, \n",
    "* $v_t$ is the volatility process driven by $W_t$ Brownian motion ~~mixed with $B_t$ so that the volatility is driven by a Brownian motion that has $\\rho$ correlation with $B_t$. $W_t$ is independent of $B_t$~~.\n",
    "\n",
    "The stock price process is not a geometric Brownian motion since the volatility is a non-adapted stochastic process (instead of being constant or deterministic as in the Black-Scholes case).\n",
    "\n",
    "The volatility process is a CIR process, a mean reversion process which has\n",
    "* mean-reversion level $\\theta$\n",
    "* the volatility mean revert to this level at the mean-reversion speed $\\kappa$\n",
    "* $\\sigma$ is volatility of the volatility process (vol of vol).\n",
    "\n",
    "$B$ and $W$ are two independent $\\Q$-Brownian motions generating the filtration $\\F_t$ in the ($\\Omega$, $\\F_t$, $\\Q$) probability space, where $\\Q$ is the pricing measure.\n",
    "\n",
    "Time $t$ is in the $[0, T]$ interval where $T$ is the expiry time of the option measured in years.\n",
    "\n",
    "The price of a call option, whose strike price is $K$, $c(t, s, v)$ is the conditional expectation of the final pay-off (random variable) $(S_T - K)^+$  given the $\\F_t$ filtration at time $t$, i.e., given all information up to $t$ in the $\\Q$ pricing measure:\n",
    "\n",
    "$$ c(t, S_t, v_t) = {\\E}^{\\Q}[(S_T - K)^+|{\\F}_t] $$\n",
    "\n",
    "In the following Monte Carlo simulation, I'll generate the path of the stock price $S_t$ and its volatility, $v_t$ from $t=0$ to $T$, so $\\F_t = \\F_0$, that is, no information is known after $t=0$, hence the conditional expectation above becomes a simple expectation with no condition, since ${\\E}^{\\Q}[(S_T - K)^+|{\\F}_{t=0}] = {\\E}^{\\Q}[(S_T - K)^+]$\n",
    "\n",
    "\n",
    "\n",
    "\n",
    "## Monte Carlo simulation\n",
    "\n",
    "I'll show how to integrate the coupled SDE's using the simplest integration method, the Euler method, generating MC paths and then making averages.\n",
    "\n",
    "In the first pass, I'll show the MC path generation using for loops to make things more accessible, and later give a vectorized solution which can utilize the capabilities of CPU's or GPU's vector units making the algorithm 100x (?) faster.\n",
    "\n",
    "So, let's discretize the the SDEs: \n",
    "* $\\Delta$ is the time step \n",
    "* $Z'$   standard normal distributions for the $S_t$ process and \n",
    "* $Z''$ standard normal distribution independent of $Z'$, which helps make\n",
    "* $Z$ driving $v_t$ where $Z = \\rho Z' + \\sqrt{1-\\rho^2}Z''$ correlated standard normal -- its correlation with $Z'$ is $\\rho$\n",
    "\n",
    "Since $v_t$ cannot be negative, I'll replace a negative $v$ with $v=0$, which is called the absorbing way. (It is left to the reader as an exercise to try the reflection way, when a negative $v$ is replaced by $v=-v$. Try and see what you get using this way.)\n",
    "\n",
    "### Explicit Euler scheme\n",
    "\n",
    "\\begin{align}\n",
    "S_{i+1} & = S_i + \\sqrt{v_i} S_i \\sqrt{\\Delta} Z'   = S_i \\exp[\\sqrt{v_i}\\sqrt{\\Delta} Z' - v_i \\Delta /2]\\\\\n",
    "v_{i+1} & = v_i + \\kappa (\\theta - v_i) \\Delta + \\sigma\\sqrt{v_i}\\sqrt{\\Delta}Z\n",
    "\\end{align}\n"
   ]
  },
  {
   "cell_type": "code",
   "execution_count": 39,
   "metadata": {},
   "outputs": [],
   "source": [
    "import random\n",
    "from math import sqrt, exp"
   ]
  },
  {
   "cell_type": "code",
   "execution_count": 40,
   "metadata": {},
   "outputs": [],
   "source": [
    "random.seed(42)  # Seed random number generator"
   ]
  },
  {
   "cell_type": "code",
   "execution_count": 41,
   "metadata": {},
   "outputs": [],
   "source": [
    "N = 1000    # Number of time steps\n",
    "n = 10000  # Number of MC paths (10,000 20sec on MBP18 1 thread)\n",
    "\n",
    "S0 = 100.   # Initial price of share of stock\n",
    "K = 100.    # Strike price of option\n",
    "v0 = 0.01   # Initial volatility\n",
    "th = 0.01   # Long time average of volatility\n",
    "k = 2.      # kappa mean reversion speed\n",
    "sig = 0.1   # vol of vol\n",
    "\n",
    "rho = -.5   # correlation coefficient of Z' and Z\n",
    "T = 1.      # expiration time from today\n",
    "\n",
    "dt = T/N    # Time step"
   ]
  },
  {
   "cell_type": "code",
   "execution_count": 42,
   "metadata": {},
   "outputs": [],
   "source": [
    "# Integrate equations:\n",
    "#   Euler method\n",
    "#   for loop based (not vectorized)\n",
    "Stv = [0.] * n  # Reserve St vector of size n\n",
    "for i in range(n):  # i-th MC path\n",
    "  vt = v0\n",
    "  St = S0\n",
    "  for t in range(1,N):  # Generate a MC path\n",
    "\n",
    "    Zs = random.gauss(0.,1.)  # Generate rnd numbers (Mersenne Twister algo) for S_t process\n",
    "    Zv = rho * random.gauss(0.,1.) + sqrt(1 - rho**2.) * random.gauss(0., 1.)  # Rnd number for v_t process\n",
    "\n",
    "    # Euler integration\n",
    "    vt = max(vt, 0.)\n",
    "    St = St * exp( sqrt(vt * dt) * Zs - vt * dt / 2.)          # Stock price process\n",
    "    vt = vt + k * (th - vt) * dt + sig * sqrt(vt * dt) * Zv    # Volatility process\n",
    "  Stv[i] = St  # Store S_T's"
   ]
  },
  {
   "cell_type": "code",
   "execution_count": 22,
   "metadata": {},
   "outputs": [],
   "source": [
    "sum_m = lambda x: max(x - K, 0.)\n",
    "sum_s = lambda x: max(x - K, 0.) ** 2.\n",
    "\n",
    "mean_price = sum(map(sum_m, Stv)) / n\n",
    "std_error_price  = sqrt(sum(map(sum_s, Stv)) / (n * (n - 1.)))"
   ]
  },
  {
   "cell_type": "code",
   "execution_count": 23,
   "metadata": {},
   "outputs": [
    {
     "data": {
      "text/plain": [
       "(4.065066582770173, 0.07505415757561733)"
      ]
     },
     "execution_count": 23,
     "metadata": {},
     "output_type": "execute_result"
    }
   ],
   "source": [
    "mean_price, std_error_price"
   ]
  },
  {
   "cell_type": "markdown",
   "metadata": {},
   "source": [
    "#### Vectorized Monte Carlo / Numpy"
   ]
  },
  {
   "cell_type": "code",
   "execution_count": 44,
   "metadata": {},
   "outputs": [],
   "source": [
    "# Quick numpy/python refresher from Karpathy at Stanford \n",
    "#   http://cs231n.github.io/python-numpy-tutorial/\n",
    "# Quick comparison of numpy and Matlab, which might be useful \n",
    "# if you are coming from the Matlab world \n",
    "#   https://docs.scipy.org/doc/numpy/user/numpy-for-matlab-users.html\n",
    "import numpy as np"
   ]
  },
  {
   "cell_type": "code",
   "execution_count": 45,
   "metadata": {},
   "outputs": [],
   "source": [
    "np.random.seed(42)  # Seed random number generator"
   ]
  },
  {
   "cell_type": "code",
   "execution_count": 46,
   "metadata": {},
   "outputs": [],
   "source": [
    "N = 1000    # Number of time steps\n",
    "n = 1000000  # Number of MC paths (1,000,000  2min on Colab; 80sec on MBP18 6 threads)\n",
    "\n",
    "S0 = 100.   # Initial price of share of stock\n",
    "K = 100.    # Strike price of option\n",
    "v0 = 0.01   # Initial volatility\n",
    "th = 0.01   # Long time average of volatility\n",
    "k = 2.      # kappa mean reversion speed\n",
    "sig = 0.1   # vol of vol\n",
    "\n",
    "rho = -.5   # correlation coefficient of Z' and Z\n",
    "T = 1.      # expiration time from today\n",
    "\n",
    "dt = T/N    # Time step"
   ]
  },
  {
   "cell_type": "code",
   "execution_count": 47,
   "metadata": {},
   "outputs": [],
   "source": [
    "# Integrate equations:\n",
    "#   Euler method\n",
    "#   MC vectorized\n",
    "vt = np.ones(n) * v0\n",
    "St = np.ones(n) * S0\n",
    "for t in range(1,N):  # Generate MC paths\n",
    "\n",
    "  Zs = np.random.normal(size=n)  # Generate rnd numbers (??? rnd gen) for S_t process\n",
    "  Zv = rho * Zs + sqrt(1 - rho**2.) * np.random.normal(size=n)  # Rnd numbers for v_t process\n",
    "\n",
    "  # Euler integration\n",
    "  vt = np.maximum(vt, 0.)\n",
    "  St = St * np.exp( np.sqrt(vt * dt) * Zs - vt * dt / 2.)     # Stock price process\n",
    "  vt = vt + k * (th - vt) * dt + sig * np.sqrt(vt * dt) * Zv  # Volatility process\n",
    "\n",
    "mean_price = np.mean(np.maximum(St - K, 0.))\n",
    "std_error_price  = np.std(np.maximum(St - K, 0.)) / sqrt(n)"
   ]
  },
  {
   "cell_type": "code",
   "execution_count": 48,
   "metadata": {},
   "outputs": [
    {
     "data": {
      "text/plain": [
       "(3.9139916791665783, 0.005651208214228738)"
      ]
     },
     "execution_count": 48,
     "metadata": {},
     "output_type": "execute_result"
    }
   ],
   "source": [
    "mean_price, std_error_price"
   ]
  },
  {
   "cell_type": "markdown",
   "metadata": {},
   "source": [
    "#### Vectorized Monte Carlo / TensorFlow"
   ]
  },
  {
   "cell_type": "code",
   "execution_count": null,
   "metadata": {},
   "outputs": [],
   "source": [
    "import numpy as np\n",
    "import tensorflow as tf\n",
    "tf.enable_eager_execution()\n",
    "tf.version.VERSION"
   ]
  },
  {
   "cell_type": "code",
   "execution_count": null,
   "metadata": {},
   "outputs": [],
   "source": [
    "tf.executing_eagerly()"
   ]
  },
  {
   "cell_type": "code",
   "execution_count": null,
   "metadata": {},
   "outputs": [],
   "source": [
    "tf.random.set_random_seed(42)"
   ]
  },
  {
   "cell_type": "code",
   "execution_count": null,
   "metadata": {},
   "outputs": [],
   "source": [
    "N = 1000    # Number of time steps\n",
    "n = 1000000  # Number of MC paths (1,000,000  30sec on Colab)\n",
    "\n",
    "S0 = 100.   # Initial price of share of stock\n",
    "K = 100.    # Strike price of option\n",
    "v0 = 0.01   # Initial volatility\n",
    "th = 0.01   # Long time average of volatility\n",
    "k = 2.      # kappa mean reversion speed\n",
    "sig = 0.1   # vol of vol\n",
    "\n",
    "rho = -.5   # correlation coefficient of Z' and Z\n",
    "T = 1.      # expiration time from today\n",
    "\n",
    "dt = T/N    # Time step"
   ]
  },
  {
   "cell_type": "code",
   "execution_count": null,
   "metadata": {},
   "outputs": [],
   "source": [
    "# Integrate equations:\n",
    "#   Euler method\n",
    "#   MC vectorized\n",
    "vt = tf.ones(n) * v0\n",
    "St = tf.ones(n) * S0\n",
    "for t in range(1,N):  # Generate MC paths\n",
    "\n",
    "  Zs = tf.random.normal([n])  # Generate rnd numbers (??? rnd gen) for S_t process\n",
    "  Zv = rho * Zs + tf.sqrt(1 - rho**2.) * tf.random.normal([n])  # Rnd numbers for v_t process\n",
    "\n",
    "  # Euler integration\n",
    "  vt = tf.maximum(vt, 0.)\n",
    "  St = St * tf.exp( tf.sqrt(vt * dt) * Zs - vt * dt / 2.)     # Stock price process\n",
    "  vt = vt + k * (th - vt) * dt + sig * tf.sqrt(vt * dt) * Zv  # Volatility process\n",
    "\n",
    "mean_price = tf.reduce_sum(tf.maximum(St - K, 0.)) / n\n",
    "std_error_price  = np.std(tf.maximum(St - K, 0.)) / tf.sqrt(float(n))"
   ]
  },
  {
   "cell_type": "code",
   "execution_count": null,
   "metadata": {},
   "outputs": [],
   "source": [
    "mean_price, std_error_price"
   ]
  },
  {
   "cell_type": "code",
   "execution_count": null,
   "metadata": {},
   "outputs": [],
   "source": []
  }
 ],
 "metadata": {
  "kernelspec": {
   "display_name": "Python 3",
   "language": "python",
   "name": "python3"
  },
  "language_info": {
   "codemirror_mode": {
    "name": "ipython",
    "version": 3
   },
   "file_extension": ".py",
   "mimetype": "text/x-python",
   "name": "python",
   "nbconvert_exporter": "python",
   "pygments_lexer": "ipython3",
   "version": "3.6.5"
  }
 },
 "nbformat": 4,
 "nbformat_minor": 2
}
