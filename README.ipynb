{
 "cells": [
  {
   "cell_type": "markdown",
   "metadata": {},
   "source": [
    "$\\DeclareMathOperator*{\\E}{\\mathbb{E}}$\n",
    "$\\DeclareMathOperator*{\\Q}{\\mathbb{Q}}$\n"
   ]
  },
  {
   "cell_type": "markdown",
   "metadata": {},
   "source": [
    "$\\DeclareMathOperator*{\\E}{\\mathbb{E}} % expectation\n",
    "\\DeclareMathOperator*{\\Q}{\\mathbb{Q}} % Q probability measure\n",
    "\\DeclareMathOperator*{\\F}{{\\mathcal{F}}}\n",
    "\\DeclareMathOperator{\\d}{\\mathrm{d}\\!}  % differential\n",
    "$\n",
    "\n",
    "<center>\n",
    "  \n",
    "# Pricing Options Using Stochastic Volatility Models \n",
    " \n",
    "## Monte Carlo Simulations in NumPy, TensorFlow and PyTorch \n",
    "  \n",
    " ### Ferenc Szalma\n",
    "  \n",
    " ### New York, NY\n",
    "\n",
    " ### May 3, 2019\n",
    "\n"
   ]
  },
  {
   "cell_type": "markdown",
   "metadata": {},
   "source": [
    "This hands-on notebook discusses how to price equity options via integrating stochastic differential equations (SDE) using Monte Carlo (MC) simulations. We choose the Heston model, a mean-reversion stochastic volatility model, as an example to show how the machinery of SDEs, their intergration over time and Monte Carlo simulations go together to price equity options. We include several versions of the Python code which show the setup using, in the simplest case, for-loops, then vectorized versions in NumPy, and also using modern tensor libraries, such as TensorFlow and PyTorch for the sake of coding and speed comparisons."
   ]
  },
  {
   "cell_type": "markdown",
   "metadata": {},
   "source": [
    "# 1 - Introduction\n",
    "**Stochastic calculus** grew out of the field of the physical phenomena of diffusion [Boltzmann 1872, Einstein 1905] and was first applied to finance by Merton [Merton 1969, 1973] to understand how prices are set in the market under the classical assumption of 'equilibrium'. The celebrated Black-Scholes (BS) options pricing formula [Black and Scholes 1973], merited by a Nobel prize in 1997 in Economics, dates back to diffusion applied to contingent claims, i.e., options, when the diffusion is a Markov process. By changing the diffusion (or stochastic) paths and the underlying probability measure of the stochastic paths (which we call the pricing measure $\\Q$) according to Girsanov's theorem [Girsanov 1960], the price of an option turns out to be a simple mathematical expactation value of the pay-off of the option at the expiration of that option. This is called martingale pricing since the option's price process is a martingale stochastic process, which keeps its expectation constant over time (again, this is all true only in the pricing measure), which, in turn, equals to its initial value. This diffusion or stochastic process is characterized by a single parameter, its volatility, $\\sigma$, and, surprisingly, it does not depend on the (mean) expected return of the underlying stock contrary to what one could have thought before Black and Scholes' work. BS assumed that the volatility $\\sigma$ is constant in time, however, this is not quite true in real life, so the BS theory needs modification. Market participants have noticed a so called volatility smile, which is changing volatility across various stikes of the option having a shape of a \"smile\" or \"smirk.\" This volatility smile can be modelled if we assume that the volatility chages in time, namely it is a stochastic process itself. So the stock price process is not driven by a single stochastic differential equation but by two, one for the price and another one for the volatility that is coupled with the first, price process.\n",
    "\n",
    "Before going further and discussing the other ingredient of pricing options with MC simulations, note that, as the above paragraph shows, options pricing is not a run of the mill high school math problem, you need to patiently and carefully follow the math and the code below. Now let's move on to the other two ingredients: Monte Carlo simulations and Euler integration of differential equations.\n",
    "\n",
    "**Monte Carlo simulations** have been around as long as the atomic bomb, they are crucial in integrating functions in high dimensions by stochastically walking around in that space and making sums or averages. Indeed, MC simulation were developed in the 1940's by [Metropolis, Teller, Ulam, von Neumann] to simulate the flow (kind of diffusion) of material in an A-bomb as it reaches criticality (or to make sure it reaches criticality) and becomes less of an atomic reactor with controlled heat production but a runaway fission process producing the most energy possible in a very short amount of time. We want to use MC simulations for much tamer purposes here. Our stochastic processes are driven by Brownian motion, a continuous random process whose distribution is normal at any time, so at each time step the stock price moves such that the size of its movement comes from a normal distribution, or more precisely a function of the normal distribution where the function is determined by the specific integration technique being used (see next paragraph). These consecutive independent random steps constitute a Markov chain of the Monte Carlo process. \n",
    "\n",
    "There are many finite difference methods to integrate SDEs, less precise first order methods and more sophisticated higher order methods, which are more precise but also more convoluted. We will integrate the SDEs using the Euler method, which is a first order integration method. Euler approximately solved ordinary differential equations the simplest ways with his method in the 1760's and Maruyama [Maruyama 196.] adapted Euler's method to SDEs two centuries later. The SDE is driven by Brownian motion in the **Euler-Maruyama integration scheme**, at each time step the stock price moves by a random number pulled from an IID normal distribution as mentioned in the previous paragraph. Higher order methods such as the second order Milstein [Milstein 1976] method or Alfonsi's implicit method [Alfonzi 2010] are more difficult to picture as the normal random variable is embedded in a scheme that advances the SDE but may be more efficient when speed is really important.\n",
    "\n",
    "\n",
    "In the following:\n",
    "* Heston model\n",
    "* Monte Carlo simulation\n",
    "* Euler scheme\n",
    "* for-loop based code\n",
    "* vectorized in NumPy\n",
    "* vectorized in TensorFlow\n",
    "* vectorized in PyTorch\n",
    "* On the quantum computer\n",
    "* Reinforcement learning based solution\n",
    "\n",
    "\n",
    "\n"
   ]
  },
  {
   "cell_type": "markdown",
   "metadata": {},
   "source": [
    "\n",
    "\n",
    "# Heston-stochastic-volatility-model\n",
    "\n",
    "In the notebooks I'll discuss various implementations of the Heston stochastic volatility model of pricing European call options. \n",
    "\n",
    "The Heston model goes beyond the Black-Scholes options pricing model in the sense that the constant volatility of the Black-Scholes model is replaced by a stochastic process for the volatility. This simple trick makes it possible to account for volatility smiles often seen in practice.\n",
    "\n",
    "## Mathematical description of the model\n",
    "\n",
    "The Heston stochastic volatility model is described by two coupled stochastic differential equations: one for the stock process, and another for the volatility process both driven by their respective Brownian motions:\n",
    "\n",
    "\\begin{align} \n",
    "\\d S_t & = \\sqrt{v_t} S_t \\d B_t, \\qquad S_0 > 0 \\\\\n",
    "\\d v_t & = \\kappa (\\theta-r_t) \\d t + \\sigma\\sqrt{v_t}(\\rho \\d B_t + \\sqrt{1-\\rho^2} \\d W_t), \\qquad v_0 > 0.\n",
    "\\end{align}\n",
    "\n",
    "In these two coupled stochastic differential equations:\n",
    "* $S_t$ is stock price process driven by the $B_t$ Brownian motion, \n",
    "* $v_t$ is the volatility process driven by $W_t$ Brownian motion ~~mixed with $B_t$ so that the volatility is driven by a Brownian motion that has $\\rho$ correlation with $B_t$. $W_t$ is independent of $B_t$~~.\n",
    "\n",
    "The stock price process is not a geometric Brownian motion since the volatility is a non-adapted stochastic process (instead of being constant or deterministic as in the Black-Scholes case).\n",
    "\n",
    "The volatility process is a CIR process, a mean reversion process which has\n",
    "* mean-reversion level $\\theta$\n",
    "* the volatility mean revert to this level at the mean-reversion speed $\\kappa$\n",
    "* $\\sigma$ is volatility of the volatility process (vol of vol).\n",
    "\n",
    "$B$ and $W$ are two independent $\\Q$-Brownian motions generating the filtration $\\F_t$ in the ($\\Omega$, $\\F_t$, $\\Q$) probability space, where $\\Q$ is the pricing measure.\n",
    "\n",
    "Time $t$ is in the $[0, T]$ interval where $T$ is the expiry time of the option measured in years.\n",
    "\n",
    "The price of a call option, whose strike price is $K$, $c(t, s, v)$ is the conditional expectation of the final pay-off (random variable) $(S_T - K)^+$  given the $\\F_t$ filtration at time $t$, i.e., given all information up to $t$ in the $\\Q$ pricing measure:\n",
    "\n",
    "$$ c(t, S_t, v_t) = {\\E}^{\\Q}[(S_T - K)^+|{\\F}_t] $$\n",
    "\n",
    "In the following Monte Carlo simulation, I'll generate the path of the stock price $S_t$ and its volatility, $v_t$ from $t=0$ to $T$, so $\\F_t = \\F_0$, that is, no information is known after $t=0$, hence the conditional expectation above becomes a simple expectation with no condition, since ${\\E}^{\\Q}[(S_T - K)^+|{\\F}_{t=0}] = {\\E}^{\\Q}[(S_T - K)^+]$\n",
    "\n",
    "\n",
    "\n",
    "\n",
    "## Monte Carlo simulation\n",
    "\n",
    "I'll show how to integrate the coupled SDE's using the simplest integration method, the Euler method, generating MC paths and then making averages.\n",
    "\n",
    "In the first pass, I'll show the MC path generation using for loops to make things more accessible, and later give a vectorized solution which can utilize the capabilities of CPU's or GPU's vector units making the algorithm 100x (?) faster.\n",
    "\n",
    "So, let's discretize the the SDEs: \n",
    "* $\\Delta$ is the time step \n",
    "* $Z'$   standard normal distributions for the $S_t$ process and \n",
    "* $Z''$ standard normal distribution independent of $Z'$, which helps make\n",
    "* $Z$ driving $v_t$ where $Z = \\rho Z' + \\sqrt{1-\\rho^2}Z''$ correlated standard normal -- its correlation with $Z'$ is $\\rho$\n",
    "\n",
    "Since $v_t$ cannot be negative, I'll replace a negative $v$ with $v=0$, which is called the absorbing way. (It is left to the reader as an exercise to try the reflection way, when a negative $v$ is replaced by $v=-v$. Try and see what you get using this way.)\n",
    "\n",
    "### Explicit Euler scheme\n",
    "\n",
    "\\begin{align}\n",
    "S_{i+1} & = S_i + \\sqrt{v_i} S_i \\sqrt{\\Delta} Z'   = S_i \\exp[\\sqrt{v_i}\\sqrt{\\Delta} Z' - v_i \\Delta /2]\\\\\n",
    "v_{i+1} & = v_i + \\kappa (\\theta - v_i) \\Delta + \\sigma\\sqrt{v_i}\\sqrt{\\Delta}Z\n",
    "\\end{align}\n"
   ]
  },
  {
   "cell_type": "markdown",
   "metadata": {},
   "source": [
    "#### For-loop based Monte Carlo"
   ]
  },
  {
   "cell_type": "code",
   "execution_count": 1,
   "metadata": {},
   "outputs": [],
   "source": [
    "import random\n",
    "from math import sqrt, exp"
   ]
  },
  {
   "cell_type": "code",
   "execution_count": 2,
   "metadata": {},
   "outputs": [],
   "source": [
    "random.seed(42)  # Seed random number generator"
   ]
  },
  {
   "cell_type": "code",
   "execution_count": 3,
   "metadata": {},
   "outputs": [],
   "source": [
    "N = 1000    # Number of time steps\n",
    "n = 10000  # Number of MC paths (10,000 20sec on MBP '18 1 thread)\n",
    "\n",
    "S0 = 100.   # Initial price of share of stock\n",
    "K = 100.    # Strike price of option\n",
    "v0 = 0.01   # Initial volatility\n",
    "th = 0.01   # Long time average of volatility\n",
    "k = 2.      # kappa mean reversion speed\n",
    "sig = 0.1   # vol of vol\n",
    "\n",
    "rho = -.5   # correlation coefficient of Z' and Z\n",
    "T = 1.      # expiration time from today\n",
    "\n",
    "dt = T/N    # Time step"
   ]
  },
  {
   "cell_type": "code",
   "execution_count": 4,
   "metadata": {},
   "outputs": [],
   "source": [
    "# Integrate equations:\n",
    "#   Euler method\n",
    "#   for loop based (not vectorized)\n",
    "Stv = [0.] * n  # Reserve St vector of size n\n",
    "for i in range(n):  # i-th MC path\n",
    "  vt = v0\n",
    "  St = S0\n",
    "  for t in range(1,N):  # Generate a MC path\n",
    "\n",
    "    Zs = random.gauss(0.,1.)  # Generate rnd numbers (Mersenne Twister algo) for S_t process\n",
    "    Zv = rho * Zs + sqrt(1 - rho**2.) * random.gauss(0., 1.)  # Rnd number for v_t process\n",
    "\n",
    "    # Euler integration\n",
    "    vt = max(vt, 0.)\n",
    "    St = St * exp( sqrt(vt * dt) * Zs - vt * dt / 2.)          # Stock price process\n",
    "    vt = vt + k * (th - vt) * dt + sig * sqrt(vt * dt) * Zv    # Volatility process\n",
    "  Stv[i] = St  # Store S_T's"
   ]
  },
  {
   "cell_type": "code",
   "execution_count": 5,
   "metadata": {},
   "outputs": [],
   "source": [
    "sum_m = lambda x: max(x - K, 0.)\n",
    "sum_s = lambda x: max(x - K, 0.) ** 2.\n",
    "\n",
    "mean_price = sum(map(sum_m, Stv)) / n\n",
    "std_error_price  = sqrt(sum(map(sum_s, Stv)) / (n * (n - 1.)))"
   ]
  },
  {
   "cell_type": "code",
   "execution_count": 6,
   "metadata": {},
   "outputs": [
    {
     "data": {
      "text/plain": [
       "(3.91400889505858, 0.06870932165948272)"
      ]
     },
     "execution_count": 6,
     "metadata": {},
     "output_type": "execute_result"
    }
   ],
   "source": [
    "mean_price, std_error_price"
   ]
  },
  {
   "cell_type": "markdown",
   "metadata": {},
   "source": [
    "#### Vectorized Monte Carlo / Numpy"
   ]
  },
  {
   "cell_type": "code",
   "execution_count": 7,
   "metadata": {},
   "outputs": [],
   "source": [
    "# Quick numpy/python refresher from Karpathy at Stanford \n",
    "#   http://cs231n.github.io/python-numpy-tutorial/\n",
    "# Quick comparison of numpy and Matlab, which might be useful \n",
    "# if you are coming from the Matlab world \n",
    "#   https://docs.scipy.org/doc/numpy/user/numpy-for-matlab-users.html\n",
    "import numpy as np"
   ]
  },
  {
   "cell_type": "code",
   "execution_count": 8,
   "metadata": {},
   "outputs": [],
   "source": [
    "np.random.seed(42)  # Seed random number generator"
   ]
  },
  {
   "cell_type": "code",
   "execution_count": 9,
   "metadata": {},
   "outputs": [],
   "source": [
    "N = 1000    # Number of time steps\n",
    "n = 1000000  # Number of MC paths (1,000,000 2min on Colab; 80sec on MBP18 6 threads)\n",
    "\n",
    "S0 = 100.   # Initial price of share of stock\n",
    "K = 100.    # Strike price of option\n",
    "v0 = 0.01   # Initial volatility\n",
    "th = 0.01   # Long time average of volatility\n",
    "k = 2.      # kappa mean reversion speed\n",
    "sig = 0.1   # vol of vol\n",
    "\n",
    "rho = -.5   # correlation coefficient of Z' and Z\n",
    "T = 1.      # expiration time from today\n",
    "\n",
    "dt = T/N    # Time step"
   ]
  },
  {
   "cell_type": "code",
   "execution_count": 10,
   "metadata": {},
   "outputs": [],
   "source": [
    "# Integrate equations:\n",
    "#   Euler method\n",
    "#   MC vectorized\n",
    "vt = np.ones(n) * v0\n",
    "St = np.ones(n) * S0\n",
    "for t in range(1,N):  # Generate MC paths\n",
    "\n",
    "  Zs = np.random.normal(size=n)  # Generate rnd numbers (??? rnd gen) for S_t process\n",
    "  Zv = rho * Zs + np.sqrt(1 - rho**2.) * np.random.normal(size=n)  # Rnd numbers for v_t process\n",
    "\n",
    "  # Euler integration\n",
    "  vt = np.maximum(vt, 0.)\n",
    "  St = St * np.exp( np.sqrt(vt * dt) * Zs - vt * dt / 2.)     # Stock price process\n",
    "  vt = vt + k * (th - vt) * dt + sig * np.sqrt(vt * dt) * Zv  # Volatility process\n",
    "\n",
    "mean_price = np.mean(np.maximum(St - K, 0.))\n",
    "std_error_price  = np.std(np.maximum(St - K, 0.)) / np.sqrt(n)"
   ]
  },
  {
   "cell_type": "code",
   "execution_count": 11,
   "metadata": {},
   "outputs": [
    {
     "data": {
      "text/plain": [
       "(3.9139916791666054, 0.005651208214228756)"
      ]
     },
     "execution_count": 11,
     "metadata": {},
     "output_type": "execute_result"
    }
   ],
   "source": [
    "mean_price, std_error_price"
   ]
  },
  {
   "cell_type": "markdown",
   "metadata": {},
   "source": [
    "#### Vectorized Monte Carlo / TensorFlow"
   ]
  },
  {
   "cell_type": "code",
   "execution_count": 12,
   "metadata": {},
   "outputs": [
    {
     "data": {
      "text/plain": [
       "'1.13.1'"
      ]
     },
     "execution_count": 12,
     "metadata": {},
     "output_type": "execute_result"
    }
   ],
   "source": [
    "import numpy as np\n",
    "import tensorflow as tf\n",
    "tf.enable_eager_execution()\n",
    "tf.version.VERSION"
   ]
  },
  {
   "cell_type": "code",
   "execution_count": 13,
   "metadata": {},
   "outputs": [
    {
     "data": {
      "text/plain": [
       "True"
      ]
     },
     "execution_count": 13,
     "metadata": {},
     "output_type": "execute_result"
    }
   ],
   "source": [
    "tf.executing_eagerly()"
   ]
  },
  {
   "cell_type": "code",
   "execution_count": 14,
   "metadata": {},
   "outputs": [],
   "source": [
    "tf.random.set_random_seed(42)"
   ]
  },
  {
   "cell_type": "code",
   "execution_count": 15,
   "metadata": {},
   "outputs": [],
   "source": [
    "N = 1000    # Number of time steps\n",
    "n = 1000000  # Number of MC paths (1,000,000  30sec on Colab, 22sec on MBP '18 6 threads)\n",
    "\n",
    "S0 = 100.   # Initial price of share of stock\n",
    "K = 100.    # Strike price of option\n",
    "v0 = 0.01   # Initial volatility\n",
    "th = 0.01   # Long time average of volatility\n",
    "k = 2.      # kappa mean reversion speed\n",
    "sig = 0.1   # vol of vol\n",
    "\n",
    "rho = -.5   # correlation coefficient of Z' and Z\n",
    "T = 1.      # expiration time from today\n",
    "\n",
    "dt = T/N    # Time step"
   ]
  },
  {
   "cell_type": "code",
   "execution_count": 16,
   "metadata": {},
   "outputs": [],
   "source": [
    "# Integrate equations:\n",
    "#   Euler method\n",
    "#   MC vectorized\n",
    "vt = tf.ones(n) * v0\n",
    "St = tf.ones(n) * S0\n",
    "for t in range(1,N):  # Generate MC paths\n",
    "\n",
    "  Zs = tf.random.normal([n])  # Generate rnd numbers (??? rnd gen) for S_t process\n",
    "  Zv = rho * Zs + tf.sqrt(1 - rho**2.) * tf.random.normal([n])  # Rnd numbers for v_t process\n",
    "\n",
    "  # Euler integration\n",
    "  vt = tf.maximum(vt, 0.)\n",
    "  St = St * tf.exp( tf.sqrt(vt * dt) * Zs - vt * dt / 2.)     # Stock price process\n",
    "  vt = vt + k * (th - vt) * dt + sig * tf.sqrt(vt * dt) * Zv  # Volatility process\n",
    "\n",
    "mean_price = tf.reduce_sum(tf.maximum(St - K, 0.)) / n\n",
    "std_error_price  = np.std(tf.maximum(St - K, 0.)) / tf.sqrt(float(n))"
   ]
  },
  {
   "cell_type": "code",
   "execution_count": 17,
   "metadata": {},
   "outputs": [
    {
     "data": {
      "text/plain": [
       "(<tf.Tensor: id=44972, shape=(), dtype=float32, numpy=3.9317935>,\n",
       " <tf.Tensor: id=44981, shape=(), dtype=float32, numpy=0.0056690983>)"
      ]
     },
     "execution_count": 17,
     "metadata": {},
     "output_type": "execute_result"
    }
   ],
   "source": [
    "mean_price, std_error_price"
   ]
  },
  {
   "cell_type": "markdown",
   "metadata": {},
   "source": [
    "#### Vectorized Monte Carlo / PyTorch"
   ]
  },
  {
   "cell_type": "code",
   "execution_count": 18,
   "metadata": {},
   "outputs": [],
   "source": [
    "import torch\n",
    "import numpy as np"
   ]
  },
  {
   "cell_type": "code",
   "execution_count": 19,
   "metadata": {},
   "outputs": [
    {
     "data": {
      "text/plain": [
       "'1.0.1.post2'"
      ]
     },
     "execution_count": 19,
     "metadata": {},
     "output_type": "execute_result"
    }
   ],
   "source": [
    "torch.__version__"
   ]
  },
  {
   "cell_type": "code",
   "execution_count": 20,
   "metadata": {},
   "outputs": [
    {
     "data": {
      "text/plain": [
       "<torch._C.Generator at 0xb28c037d0>"
      ]
     },
     "execution_count": 20,
     "metadata": {},
     "output_type": "execute_result"
    }
   ],
   "source": [
    "torch.manual_seed(42)"
   ]
  },
  {
   "cell_type": "code",
   "execution_count": 21,
   "metadata": {},
   "outputs": [],
   "source": [
    "N = 1000    # Number of time steps\n",
    "n = 1000000  # Number of MC paths (1,000,000  37sec on Colab, 24sec on MBP '18 1 thread)\n",
    "\n",
    "S0 = 100.   # Initial price of share of stock\n",
    "K = 100.    # Strike price of option\n",
    "v0 = 0.01   # Initial volatility\n",
    "th = 0.01   # Long time average of volatility\n",
    "k = 2.      # kappa mean reversion speed\n",
    "sig = 0.1   # vol of vol\n",
    "\n",
    "rho = -.5   # correlation coefficient of Z' and Z\n",
    "T = 1.      # expiration time from today\n",
    "\n",
    "dt = T/N    # Time step"
   ]
  },
  {
   "cell_type": "code",
   "execution_count": 22,
   "metadata": {},
   "outputs": [],
   "source": [
    "# Integrate equations:\n",
    "#   Euler method\n",
    "#   MC vectorized\n",
    "vt = torch.ones(n) * v0\n",
    "St = torch.ones(n) * S0\n",
    "for t in range(1,N):  # Generate MC paths\n",
    "\n",
    "  Zs = torch.randn(n)  # Generate rnd numbers (??? rnd gen) for S_t process\n",
    "  Zv = rho * Zs + np.sqrt(1 - rho**2.) * torch.randn(n)  # Rnd numbers for v_t process\n",
    "\n",
    "  # Euler integration\n",
    "  vt = torch.max(vt, torch.zeros(n))\n",
    "  St = St * torch.exp( torch.sqrt(vt * dt) * Zs - vt * dt / 2.)     # Stock price process\n",
    "  vt = vt + k * (th - vt) * dt + sig * torch.sqrt(vt * dt) * Zv  # Volatility process\n",
    "\n",
    "mean_price = torch.mean(torch.max(St - K, torch.zeros(n)))\n",
    "std_error_price  = torch.std(torch.max(St - K, torch.zeros(n))) / np.sqrt(float(n))"
   ]
  },
  {
   "cell_type": "code",
   "execution_count": 23,
   "metadata": {},
   "outputs": [
    {
     "data": {
      "text/plain": [
       "(tensor(3.9181), tensor(0.0057))"
      ]
     },
     "execution_count": 23,
     "metadata": {},
     "output_type": "execute_result"
    }
   ],
   "source": [
    "mean_price, std_error_price"
   ]
  },
  {
   "cell_type": "code",
   "execution_count": null,
   "metadata": {},
   "outputs": [],
   "source": []
  }
 ],
 "metadata": {
  "kernelspec": {
   "display_name": "Python 3",
   "language": "python",
   "name": "python3"
  },
  "language_info": {
   "codemirror_mode": {
    "name": "ipython",
    "version": 3
   },
   "file_extension": ".py",
   "mimetype": "text/x-python",
   "name": "python",
   "nbconvert_exporter": "python",
   "pygments_lexer": "ipython3",
   "version": "3.6.8"
  }
 },
 "nbformat": 4,
 "nbformat_minor": 2
}
