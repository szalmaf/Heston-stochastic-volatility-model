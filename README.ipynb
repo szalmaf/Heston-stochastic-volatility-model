{
 "cells": [
  {
   "cell_type": "markdown",
   "metadata": {},
   "source": [
    "# Heston-stochastic-volatility-model\n",
    "\n",
    "$\n",
    "\\DeclareMathOperator*{\\E}{\\mathbb{E}}\n",
    "\\DeclareMathOperator*{\\Q}{\\mathbb{Q}}\n",
    "$\n",
    "\n",
    "In the notebooks I'll discuss various implementations of the Heston stochastic volatility model of pricing European options. This stochastic volatility model is described by two stochastic differential equations: one for the stock process, and another one for the volatility process both driven by their respective Brownian motions:\n",
    "\n",
    "\n",
    "\\begin{align} \n",
    "dS_t & = \\sqrt{v_t} S_t dB_t, \\qquad S_0 > 0 \\\\\n",
    "dv_t & = \\kappa (\\theta-r_t) dt + \\sigma\\sqrt{v_t}(\\rho dB_t + \\sqrt{1-\\rho^2} dW_t), \\qquad v_0 > 0.\n",
    "\\end{align}\n",
    "\n",
    "The $S_t$ stock price process is driven $B_t$ Brownian motion, and the volatility, $v_t$, is driven by $W_t$ Brownian motion mixed with $B_t$ so that the volatility is driven by a Brownian motion that has $\\rho$ correlation with $B_t$. $W_t$ is independent of $B_t$.\n",
    "\n",
    "The stock price process is similar to a geometric Brownian motion except that its volatility is a stochastic process instead of being constant or deterministic.\n",
    "\n",
    "The volatility process is a CIR process, a mean reversion process which has mean-reversion level $\\theta$ and the volatility mean revert to this level at the mean-reversion speed $\\kappa$. $\\sigma$ is volatility of the volatility process (vol of vol).\n",
    "\n",
    "$B$ and $W$ are two independent $\\Q$-Brownian motions generating the filtration $F_t$\n",
    "\n",
    "The time is in the interval $[0, T]$ where $T$ is the expiry time of the option measured in years.\n",
    "\n"
   ]
  },
  {
   "cell_type": "code",
   "execution_count": null,
   "metadata": {},
   "outputs": [],
   "source": []
  }
 ],
 "metadata": {
  "kernelspec": {
   "display_name": "Python 3",
   "language": "python",
   "name": "python3"
  },
  "language_info": {
   "codemirror_mode": {
    "name": "ipython",
    "version": 3
   },
   "file_extension": ".py",
   "mimetype": "text/x-python",
   "name": "python",
   "nbconvert_exporter": "python",
   "pygments_lexer": "ipython3",
   "version": "3.6.5"
  }
 },
 "nbformat": 4,
 "nbformat_minor": 2
}
